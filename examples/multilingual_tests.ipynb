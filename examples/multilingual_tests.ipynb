{
 "cells": [
  {
   "cell_type": "code",
   "execution_count": 1,
   "id": "36f7aae3",
   "metadata": {},
   "outputs": [
    {
     "name": "stdout",
     "output_type": "stream",
     "text": [
      "Testing multilingual processing with different confidence thresholds...\n",
      "\n",
      "=== DEFAULT CONFIDENCE (0.5) ===\n"
     ]
    },
    {
     "name": "stderr",
     "output_type": "stream",
     "text": [
      "c:\\Users\\Yuuv\\anaconda3\\envs\\polyner\\lib\\site-packages\\tqdm\\auto.py:21: TqdmWarning: IProgress not found. Please update jupyter and ipywidgets. See https://ipywidgets.readthedocs.io/en/stable/user_install.html\n",
      "  from .autonotebook import tqdm as notebook_tqdm\n",
      "Device set to use cpu\n"
     ]
    },
    {
     "name": "stdout",
     "output_type": "stream",
     "text": [
      "All tokens:\n",
      "         token language  is_emoji  norm_token entity_label  confidence\n",
      "0        Apple       en     False       apple          ORG    0.996401\n",
      "1         Inc.       en     False        inc.          ORG    0.996401\n",
      "2          was       en     False         was         None         NaN\n",
      "3      founded       en     False     founded         None         NaN\n",
      "4           by       en     False          by         None         NaN\n",
      "5        Steve       en     False       steve          PER    0.999432\n",
      "6         Jobs       en     False        jobs          PER    0.999432\n",
      "7           in       en     False          in         None         NaN\n",
      "8    Cupertino       en     False   cupertino          LOC    0.998989\n",
      "9            ,       en     False           ,         None         NaN\n",
      "10  California       en     False  california          LOC    0.999100\n",
      "11           .       en     False           .         None         NaN\n",
      "12      Google       en     False      google          ORG    0.991959\n",
      "13       tiene       en     False       tiene         None         NaN\n",
      "14          su       en     False          su         None         NaN\n",
      "15        sede       en     False        sede         None         NaN\n",
      "16          en       en     False          en         None         NaN\n",
      "17    Mountain       en     False    mountain          LOC    0.999322\n",
      "18        View       en     False        view          LOC    0.999322\n",
      "19           ,       en     False           ,         None         NaN\n",
      "20  California       en     False  california          LOC    0.999098\n",
      "21           .       en     False           .         None         NaN\n",
      "22      Amazon       de     False      amazon          ORG    0.991528\n",
      "23       wurde       de     False       wurde         None         NaN\n",
      "24         von       de     False         von         None         NaN\n",
      "25        Jeff       de     False        jeff          PER    0.999698\n",
      "26       Bezos       de     False       bezos          PER    0.999698\n",
      "27          in       de     False          in         None         NaN\n",
      "28     Seattle       de     False     seattle          LOC    0.999399\n",
      "29   gegründet       de     False   gegrundet         None         NaN\n",
      "30           .       de     False           .         None         NaN\n",
      "31   Microsoft       en     False   microsoft          ORG    0.997230\n",
      "32         was       en     False         was         None         NaN\n",
      "33     founded       en     False     founded         None         NaN\n",
      "34          by       en     False          by         None         NaN\n",
      "35        Bill       en     False        bill          PER    0.999686\n",
      "36       Gates       en     False       gates          PER    0.999686\n",
      "37         and       en     False         and         None         NaN\n",
      "38        Paul       en     False        paul          PER    0.999706\n",
      "39       Allen       en     False       allen          PER    0.999706\n",
      "40           .       en     False           .         None         NaN\n",
      "41          La       fr     False          la          LOC    0.883417\n",
      "42        Tour       fr     False        tour          LOC    0.883417\n",
      "43      Eiffel       fr     False      eiffel          LOC    0.883417\n",
      "44         est       fr     False         est         None         NaN\n",
      "45      située       fr     False      situee         None         NaN\n",
      "46           à       fr     False           a         None         NaN\n",
      "47       Paris       fr     False       paris          LOC    0.999154\n",
      "48           ,       fr     False           ,         None         NaN\n",
      "49      France       fr     False      france          LOC    0.999037\n",
      "50           .       fr     False           .         None         NaN\n",
      "\n",
      "Entities detected (default confidence):\n",
      "         token language entity_label\n",
      "0        Apple       en          ORG\n",
      "1         Inc.       en          ORG\n",
      "5        Steve       en          PER\n",
      "6         Jobs       en          PER\n",
      "8    Cupertino       en          LOC\n",
      "10  California       en          LOC\n",
      "12      Google       en          ORG\n",
      "17    Mountain       en          LOC\n",
      "18        View       en          LOC\n",
      "20  California       en          LOC\n",
      "22      Amazon       de          ORG\n",
      "25        Jeff       de          PER\n",
      "26       Bezos       de          PER\n",
      "28     Seattle       de          LOC\n",
      "31   Microsoft       en          ORG\n",
      "35        Bill       en          PER\n",
      "36       Gates       en          PER\n",
      "38        Paul       en          PER\n",
      "39       Allen       en          PER\n",
      "41          La       fr          LOC\n",
      "42        Tour       fr          LOC\n",
      "43      Eiffel       fr          LOC\n",
      "47       Paris       fr          LOC\n",
      "49      France       fr          LOC\n",
      "\n",
      "==================================================\n",
      "\n"
     ]
    }
   ],
   "source": [
    "from polyner import PolyNER\n",
    "import pandas as pd\n",
    "\n",
    "# Initialize the processor\n",
    "processor = PolyNER()\n",
    "\n",
    "# Test text with multiple languages and named entities\n",
    "test_text = \"\"\"\n",
    "Apple Inc. was founded by Steve Jobs in Cupertino, California.\n",
    "Google tiene su sede en Mountain View, California.\n",
    "Amazon wurde von Jeff Bezos in Seattle gegründet.\n",
    "Microsoft was founded by Bill Gates and Paul Allen.\n",
    "La Tour Eiffel est située à Paris, France.\n",
    "\"\"\"\n",
    "\n",
    "print(\"Testing multilingual processing with different confidence thresholds...\\n\")\n",
    "\n",
    "# Test with default confidence (0.5)\n",
    "print(\"=== DEFAULT CONFIDENCE (0.5) ===\")\n",
    "try:\n",
    "    result_default = processor.process_multi(test_text)\n",
    "    \n",
    "    # Display all tokens and their properties\n",
    "    print(\"All tokens:\")\n",
    "    print(result_default)\n",
    "    \n",
    "    # Display just the entities\n",
    "    entities_default = result_default[result_default[\"entity_label\"].notna()]\n",
    "    print(\"\\nEntities detected (default confidence):\")\n",
    "    if \"entity_score\" in entities_default.columns:\n",
    "        print(entities_default[[\"token\", \"language\", \"entity_label\", \"entity_score\"]])\n",
    "    else:\n",
    "        print(entities_default[[\"token\", \"language\", \"entity_label\"]])\n",
    "        \n",
    "except Exception as e:\n",
    "    print(f\"Error with default confidence: {e}\")\n",
    "\n",
    "print(\"\\n\" + \"=\"*50 + \"\\n\")\n"
   ]
  },
  {
   "cell_type": "code",
   "execution_count": 2,
   "id": "cb4e5537",
   "metadata": {},
   "outputs": [
    {
     "name": "stdout",
     "output_type": "stream",
     "text": [
      "=== HIGH CONFIDENCE (0.8) ===\n"
     ]
    },
    {
     "name": "stderr",
     "output_type": "stream",
     "text": [
      "Device set to use cpu\n"
     ]
    },
    {
     "name": "stdout",
     "output_type": "stream",
     "text": [
      "Entities detected (high confidence):\n",
      "         token language  is_emoji  norm_token entity_label  confidence\n",
      "0        Apple       en     False       apple          ORG    0.996401\n",
      "1         Inc.       en     False        inc.          ORG    0.996401\n",
      "5        Steve       en     False       steve          PER    0.999432\n",
      "6         Jobs       en     False        jobs          PER    0.999432\n",
      "8    Cupertino       en     False   cupertino          LOC    0.998989\n",
      "10  California       en     False  california          LOC    0.999100\n",
      "12      Google       en     False      google          ORG    0.991959\n",
      "17    Mountain       en     False    mountain          LOC    0.999322\n",
      "18        View       en     False        view          LOC    0.999322\n",
      "20  California       en     False  california          LOC    0.999098\n",
      "22      Amazon       de     False      amazon          ORG    0.991528\n",
      "25        Jeff       de     False        jeff          PER    0.999698\n",
      "26       Bezos       de     False       bezos          PER    0.999698\n",
      "28     Seattle       de     False     seattle          LOC    0.999399\n",
      "31   Microsoft       en     False   microsoft          ORG    0.997230\n",
      "35        Bill       en     False        bill          PER    0.999686\n",
      "36       Gates       en     False       gates          PER    0.999686\n",
      "38        Paul       en     False        paul          PER    0.999706\n",
      "39       Allen       en     False       allen          PER    0.999706\n",
      "41          La       fr     False          la          LOC    0.883417\n",
      "42        Tour       fr     False        tour          LOC    0.883417\n",
      "43      Eiffel       fr     False      eiffel          LOC    0.883417\n",
      "47       Paris       fr     False       paris          LOC    0.999154\n",
      "49      France       fr     False      france          LOC    0.999037\n",
      "\n",
      "==================================================\n",
      "\n"
     ]
    }
   ],
   "source": [
    "# Test with high confidence (0.8)\n",
    "print(\"=== HIGH CONFIDENCE (0.8) ===\")\n",
    "try:\n",
    "    result_high = processor.process_multi(test_text, confidence_threshold=0.8)\n",
    "    \n",
    "    # Display just the entities\n",
    "    entities_high = result_high[result_high[\"entity_label\"].notna()]\n",
    "    print(\"Entities detected (high confidence):\")\n",
    "    print(entities_high)\n",
    "        \n",
    "except Exception as e:\n",
    "    print(f\"Error with high confidence: {e}\")\n",
    "\n",
    "print(\"\\n\" + \"=\"*50 + \"\\n\")\n",
    "\n"
   ]
  },
  {
   "cell_type": "code",
   "execution_count": 3,
   "id": "e13a1698",
   "metadata": {},
   "outputs": [
    {
     "name": "stdout",
     "output_type": "stream",
     "text": [
      "=== LOW CONFIDENCE (0.2) ===\n"
     ]
    },
    {
     "name": "stderr",
     "output_type": "stream",
     "text": [
      "Device set to use cpu\n"
     ]
    },
    {
     "name": "stdout",
     "output_type": "stream",
     "text": [
      "Entities detected (low confidence):\n",
      "         token language  is_emoji  norm_token entity_label  confidence\n",
      "0        Apple       en     False       apple          ORG    0.996401\n",
      "1         Inc.       en     False        inc.          ORG    0.996401\n",
      "5        Steve       en     False       steve          PER    0.999432\n",
      "6         Jobs       en     False        jobs          PER    0.999432\n",
      "8    Cupertino       en     False   cupertino          LOC    0.998989\n",
      "10  California       en     False  california          LOC    0.999100\n",
      "12      Google       en     False      google          ORG    0.991959\n",
      "17    Mountain       en     False    mountain          LOC    0.999322\n",
      "18        View       en     False        view          LOC    0.999322\n",
      "20  California       en     False  california          LOC    0.999098\n",
      "22      Amazon       de     False      amazon          ORG    0.991528\n",
      "25        Jeff       de     False        jeff          PER    0.999698\n",
      "26       Bezos       de     False       bezos          PER    0.999698\n",
      "28     Seattle       de     False     seattle          LOC    0.999399\n",
      "31   Microsoft       en     False   microsoft          ORG    0.997230\n",
      "35        Bill       en     False        bill          PER    0.999686\n",
      "36       Gates       en     False       gates          PER    0.999686\n",
      "38        Paul       en     False        paul          PER    0.999706\n",
      "39       Allen       en     False       allen          PER    0.999706\n",
      "41          La       fr     False          la          LOC    0.883417\n",
      "42        Tour       fr     False        tour          LOC    0.883417\n",
      "43      Eiffel       fr     False      eiffel          LOC    0.883417\n",
      "47       Paris       fr     False       paris          LOC    0.999154\n",
      "49      France       fr     False      france          LOC    0.999037\n",
      "\n",
      "==================================================\n",
      "\n"
     ]
    }
   ],
   "source": [
    "# Test with low confidence (0.2)\n",
    "print(\"=== LOW CONFIDENCE (0.2) ===\")\n",
    "try:\n",
    "    result_low = processor.process_multi(test_text, confidence_threshold=0.2)\n",
    "    \n",
    "    # Display just the entities\n",
    "    entities_low = result_low[result_low[\"entity_label\"].notna()]\n",
    "    print(\"Entities detected (low confidence):\")\n",
    "    print(entities_low)\n",
    "        \n",
    "except Exception as e:\n",
    "    print(f\"Error with low confidence: {e}\")\n",
    "\n",
    "print(\"\\n\" + \"=\"*50 + \"\\n\")"
   ]
  },
  {
   "cell_type": "code",
   "execution_count": 4,
   "id": "7b402b6e",
   "metadata": {},
   "outputs": [
    {
     "name": "stderr",
     "output_type": "stream",
     "text": [
      "Device set to use cpu\n",
      "Device set to use cpu\n",
      "Device set to use cpu\n"
     ]
    },
    {
     "name": "stdout",
     "output_type": "stream",
     "text": [
      "Text 1 entities:\n",
      "       token language entity_label\n",
      "0      Apple       en          ORG\n",
      "1       Inc.       en          ORG\n",
      "5  Cupertino       en          LOC\n",
      "Text 2 entities:\n",
      "      token language entity_label\n",
      "0    Google       nl          ORG\n",
      "5  Mountain       nl          LOC\n",
      "6      View       nl          LOC\n",
      "Text 3 entities:\n",
      "    token language entity_label\n",
      "0  Amazon       de          ORG\n",
      "3    Jeff       de          PER\n",
      "4   Bezos       de          PER\n"
     ]
    }
   ],
   "source": [
    "from polyner import PolyNER\n",
    "\n",
    "processor = PolyNER()\n",
    "\n",
    "# List of texts\n",
    "texts = [\n",
    "    \"Apple Inc. is based in Cupertino.\",\n",
    "    \"Google tiene su sede en Mountain View.\",\n",
    "    \"Amazon wurde von Jeff Bezos gegründet.\"\n",
    "]\n",
    "\n",
    "# Process batch\n",
    "results = processor.process_batch_multi(texts)\n",
    "\n",
    "# Access results\n",
    "for i, df in enumerate(results):\n",
    "    print(f\"Text {i+1} entities:\")\n",
    "    entities = df[df[\"entity_label\"].notna()]\n",
    "    print(entities[[\"token\", \"language\", \"entity_label\"]])"
   ]
  }
 ],
 "metadata": {
  "kernelspec": {
   "display_name": "polyner",
   "language": "python",
   "name": "python3"
  },
  "language_info": {
   "codemirror_mode": {
    "name": "ipython",
    "version": 3
   },
   "file_extension": ".py",
   "mimetype": "text/x-python",
   "name": "python",
   "nbconvert_exporter": "python",
   "pygments_lexer": "ipython3",
   "version": "3.10.16"
  }
 },
 "nbformat": 4,
 "nbformat_minor": 5
}
